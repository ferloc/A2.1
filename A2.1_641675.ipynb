{
 "cells": [
  {
   "cell_type": "markdown",
   "id": "dea89a45-f382-40a4-9062-b24e02351329",
   "metadata": {},
   "source": [
    "# (A2.1 Regresión logística y validación cruzada)         \n",
    "                                                                                                       \n",
    "                                                                            Fernando Ariel Lozano Castillo\n"
   ]
  },
  {
   "cell_type": "markdown",
   "id": "c9ef4767-adc6-4bbe-af7f-3c677a182d39",
   "metadata": {},
   "source": [
    "En este proyecto usare la base de datos una base de datos del   ,[INEGI](https://www.inegi.org.mx/app/descarga/ficha.html?tit=1330093&ag=0&f=csv), concretamente la **Encuesta Nacional sobre Acceso y Permanencia en la Educación (ENAPE) (datos de 2021)**, que contiene más de 32mil observaciones y 100 diferentes variables.\n",
    "\n",
    "A la cual le aplicaré una regresión logística, matriz de confusión y curva ROC.\n",
    "Y  debido a que lo que buscamos es hacer una clasificación de personas, la salida en esta ocasión es la variable `PB3_1` la cual es la pregunta: **¿(NOMBRE ) está inscrita(o) en el actual año o ciclo escolar (2021-2022) que inició en agosto/septiembre de 2021?** que tiene como posibles respuestas 1=Si , 2=No"
   ]
  },
  {
   "cell_type": "markdown",
   "id": "9dd70389-013f-45ca-ae5e-498e7dd012df",
   "metadata": {},
   "source": [
    "Primero lo que haremos es usar la librería de pandas para leer el archivo y lo almacenamos en la variable `df`, después de ello con la función `shape` veré el tamaño de la base de datos. Y con `value_counts` vere en la variable de salida, cuantas veces aparece `1` y `2` para checar que no haya huecos. Y NIVEL_A,(referente a que nivel escolar estuvieron en el año escolar 2020-2021, más adelante se muestra a detalle que posibles respuestas tiene esta columna) "
   ]
  },
  {
   "cell_type": "code",
   "execution_count": 146,
   "id": "20830426-c71b-4161-b09a-67d5191bb71c",
   "metadata": {},
   "outputs": [
    {
     "name": "stdout",
     "output_type": "stream",
     "text": [
      "Tamaño de la base :  (32343, 101) \n",
      "\n",
      "PB3_1\n",
      "1.0    19655\n",
      "2.0    10633\n",
      "Name: count, dtype: int64\n",
      "Total de respuestas: 30288\n",
      "La suma de respuestas  30288  es menor que el total de filas de la base  32343\n",
      " \n",
      " \n",
      " \n",
      "NIVEL_A\n",
      "3.0     7172\n",
      "4.0     3694\n",
      "9.0     3224\n",
      "6.0     2684\n",
      "2.0     2199\n",
      "7.0      758\n",
      "8.0       94\n",
      "1.0       91\n",
      "11.0      80\n",
      "5.0       44\n",
      "10.0      17\n",
      "12.0       7\n",
      "Name: count, dtype: int64\n",
      "Total de respuestas: 20064\n",
      "La suma de respuestas  20064  es menor que el total de filas de la base  32343\n"
     ]
    }
   ],
   "source": [
    "# Importa la librería pandas\n",
    "import pandas as pd\n",
    "df = pd.read_csv(\"Encuestas.csv\")\n",
    "\n",
    "print(\"Tamaño de la base : \",df.shape,\"\\n\")\n",
    "\n",
    "# Obtener los conteos de valores\n",
    "conteo_respuestas = df.PB3_1.value_counts()\n",
    "\n",
    "# Mostrar el conteo\n",
    "print(conteo_respuestas)\n",
    "\n",
    "# Calcular el total de respuestas\n",
    "total_respuestas = conteo_respuestas.sum()\n",
    "\n",
    "# Mostrar el total de respuestas\n",
    "print(\"Total de respuestas:\" ,total_respuestas)\n",
    "# Verificar si la suma es menor que el número total de filas en el DataFrame\n",
    "if total_respuestas < df.shape[0]:\n",
    "    print(\"La suma de respuestas \", total_respuestas, \" es menor que el total de filas de la base \", df.shape[0])\n",
    "\n",
    "\n",
    "print(\" \")\n",
    "print(\" \")\n",
    "print(\" \")\n",
    "\n",
    "# Obtener los conteos de valores\n",
    "conteo_respuestas1 = df.NIVEL_A.value_counts()\n",
    "\n",
    "# Mostrar el conteo\n",
    "print(conteo_respuestas1)\n",
    "\n",
    "# Calcular el total de respuestas\n",
    "total_respuestas1 = conteo_respuestas1.sum()\n",
    "\n",
    "# Mostrar el total de respuestas\n",
    "print(\"Total de respuestas:\" ,total_respuestas1)\n",
    "# Verificar si la suma es menor que el número total de filas en el DataFrame\n",
    "if total_respuestas1 < df.shape[0]:\n",
    "    print(\"La suma de respuestas \", total_respuestas1, \" es menor que el total de filas de la base \", df.shape[0])"
   ]
  },
  {
   "cell_type": "markdown",
   "id": "3a6e21ad-c33b-41b9-8e10-7c8776dc5df1",
   "metadata": {},
   "source": [
    "\n",
    "## Solución de errores y Eliminación de variables\n",
    "\n",
    "\n",
    "\n",
    "Para fines de este proyecto de las 101 variables, solo usaré 5 de ellas, por lo que borraré el resto de las variables de `df`\n",
    "\n",
    "\n",
    "Debido a que al checar que **PB3_1**  y **NIVEL A** no contienen todas las respuestas de los 32343 encuestados, y con un chequeo manual de la base, podemos darnos cuenta qué tiene celdas vacías.\n",
    "\n",
    "- Primero\n",
    "Para fines de este proyecto, de las 101 variables, solo usaré 5 variables de interés y la variable de salida, de ellas, por lo que dejaré a `df` solo con esas 6 variables.\n",
    "**SEXO** : 1 = Hombre , 2 =Mujer\n",
    "\n",
    "**EDAD** : De 0 a 28 años\n",
    "\n",
    "**PA3_1** :Es la pregunta ¿(NOMBRE ) estuvo inscrita(o) el pasado año o ciclo escolar (2020- 2021)? . 1=Si , 2=No\n",
    "\n",
    "\n",
    "**PB3_1 : La variable de salida que se comentó al principio.**\n",
    "\n",
    "\n",
    "**NIVEL_A** :Nivel  de escolaridad del año escolar anterior - \n",
    "### Niveles Educativos (NIVEL A)\n",
    "\n",
    "| Código | Nivel Educativo                                      |\n",
    "|--------|-----------------------------------------------------|\n",
    "| 01     | Educación inicial (guardería)                      |\n",
    "| 02     | Preescolar                                         |\n",
    "| 03     | Primaria                                           |\n",
    "| 04     | Secundaria                                         |\n",
    "| 05     | Profesional técnico (carrera técnica con secundaria terminada) |\n",
    "| 06     | Preparatoria o bachillerato general               |\n",
    "| 07     | Bachillerato tecnológico                          |\n",
    "| 08     | Técnico Superior Universitario (carrera técnica con bachillerato terminado) |\n",
    "| 09     | Licenciatura o profesional                        |\n",
    "| 10     | Especialidad                                       |\n",
    "| 11     | Maestría                                          |\n",
    "| 12     | Doctorado                                         |\n",
    "\n",
    "**ENT** : Son los estados de México del 1 al 32 como se muestra a continuación\n",
    "\n",
    "### Entidades (Estados de México)\n",
    "\n",
    "| Código | Entidad                          |\n",
    "|--------|----------------------------------|\n",
    "| 1      | Aguascalientes                   |\n",
    "| 2      | Baja California                  |\n",
    "| 3      | Baja California Sur              |\n",
    "| 4      | Campeche                         |\n",
    "| 5      | Coahuila de Zaragoza             |\n",
    "| 6      | Colima                           |\n",
    "| 7      | Chiapas                          |\n",
    "| 8      | Chihuahua                        |\n",
    "| 9      | Ciudad de México                 |\n",
    "| 10     | Durango                          |\n",
    "| 11     | Guanajuato                       |\n",
    "| 12     | Guerrero                         |\n",
    "| 13     | Hidalgo                          |\n",
    "| 14     | Jalisco                          |\n",
    "| 15     | Estado de México                 |\n",
    "| 16     | Michoacán de Ocampo              |\n",
    "| 17     | Morelos                          |\n",
    "| 18     | Nayarit                          |\n",
    "| 19     | Nuevo León                       |\n",
    "| 20     | Oaxaca                           |\n",
    "| 21     | Puebla                           |\n",
    "| 22     | Querétaro                        |\n",
    "| 23     | Quintana Roo                     |\n",
    "| 24     | San Luis Potosí                  |\n",
    "| 25     | Sinaloa                          |\n",
    "| 26     | Sonora                           |\n",
    "| 27     | Tabasco                          |\n",
    "| 28     | Tamaulipas                       |\n",
    "| 29     | Tlaxcala                         |\n",
    "| 30     | Veracruz de Ignacio de la Llave  |\n",
    "| 31     | Yucatán                          |\n",
    "| 32     | Zacatecas                        |\n",
    "\n",
    "\n",
    "\n",
    "\n",
    "\n"
   ]
  },
  {
   "cell_type": "code",
   "execution_count": 149,
   "id": "50a58e7e-2d29-4f1d-84cf-2562fc70548f",
   "metadata": {},
   "outputs": [
    {
     "name": "stdout",
     "output_type": "stream",
     "text": [
      "(32343, 6)\n"
     ]
    }
   ],
   "source": [
    "# Eliminacion de variables\n",
    "df = df[['SEXO', 'EDAD', 'PA3_1', 'ENT', 'NIVEL_A','PB3_1']]\n",
    "print(df.shape)\n",
    "\n",
    "#Esta línea crea un nuevo DataFrame df que contiene solo las columnas especificadas: 'SEXO', 'EDAD', 'PA3_1', 'ENT', 'NIVEL_A' y 'PB3_1'.\n",
    "\n",
    "#En otras palabras, está eliminando todas las demás columnas del DataFrame original, manteniendo solo las columnas mencionadas."
   ]
  },
  {
   "cell_type": "markdown",
   "id": "778bbb0a-fcad-4943-80e9-d6cef2d86347",
   "metadata": {},
   "source": [
    "Ahora para **NIVEL A**\n",
    "Checaré las edades y las respuestas a PA3_1 para decidir que hacer con ellas, también se generara un excel con los resultados de esto.\n",
    "\n",
    "\n",
    "- `df['NIVEL_A'].isna()`: Esto crea una condición booleana que devuelve True para las filas donde el valor en la columna NIVEL_A es NaN (vacío).\n",
    "`df[df['NIVEL_A'].isna()]`: Esta operación filtra el DataFrame df y selecciona solo las filas donde la condición anterior es True (es decir, donde NIVEL_A está vacío).\n",
    "El resultado se guarda en la variable muestras_vacias.\n",
    "\n",
    "- `[['edad', 'PB3_1']]`: Esto selecciona las columnas **edad y PA3_1** del DataFrame muestras_vacias, es decir, solo estas dos columnas serán incluidas en el DataFrame tabla_resultado.\n",
    "\n",
    "\n",
    "- `to_excel('muestras_vacias_nivel_a.xlsx', index=False)`: Este método guarda el DataFrame tabla_resultado en un archivo Excel llamado muestras_vacias_nivel_a.xlsx.\n",
    "El parámetro index=False evita que se incluya la columna de índice en el archivo Excel."
   ]
  },
  {
   "cell_type": "code",
   "execution_count": 152,
   "id": "ab781f79-3376-4cc2-9255-626e1e6c4f6d",
   "metadata": {},
   "outputs": [
    {
     "name": "stdout",
     "output_type": "stream",
     "text": [
      "Archivo Excel guardado con éxito como 'muestras_vacias_nivel_a.xlsx'\n"
     ]
    }
   ],
   "source": [
    "# Filtrar las filas donde 'NIVEL_A' está vacío\n",
    "muestras_vacias = df[df['NIVEL_A'].isna()]\n",
    "\n",
    "# Seleccionar las columnas 'edad' y 'PB3_1' para esas filas\n",
    "tabla_resultado = muestras_vacias[['EDAD', 'PA3_1']]\n",
    "\n",
    "# Guardar la tabla en un archivo Excel\n",
    "tabla_resultado.to_excel('muestras_vacias_nivel_a.xlsx', index=False)\n",
    "\n",
    "print(\"Archivo Excel guardado con éxito como 'muestras_vacias_nivel_a.xlsx'\")"
   ]
  },
  {
   "cell_type": "markdown",
   "id": "2151e387-e1f3-426c-a38a-21b62168083f",
   "metadata": {},
   "source": [
    "No se nota pero después de observar la tabla, las vacías son de edades de 0,1,2,2,26,27,etc por lo que se puede decir que no aplica NIVEL_A debido a que no estuvieron en el año escolar anterior, debido a su corta edad o porque posiblemente se graduaron ya hace tiempo.Por lo que tendremos una opción más en **NIVEL A** que sea `0` = No Aplica\n",
    "## Cambios de Nan a 0\n",
    "- Después, en solución de errores, \n",
    "checaremos toda la base y que muestre cuáles variables tienen **menos valores** que el total de muestras Y para avanzar en este proyecto, si es que hay filas vacías se pondrán como ceros."
   ]
  },
  {
   "cell_type": "markdown",
   "id": "73d0a860-2c59-4dc0-9ca6-6a3dacfe94eb",
   "metadata": {},
   "source": [
    "#### 1. Calcular los conteos de valores no nulos\n",
    "`non_null_counts = df.notnull().sum()`<br>\n",
    "Este comando calcula la cantidad de valores no nulos en cada columna del DataFrame `df`. <br> \n",
    "- La función `notnull()` devuelve una matriz booleana donde `True` indica valores no nulos y `False` valores nulos.  \n",
    "- Luego, el método `.sum()` cuenta cuántos valores `True` (no nulos) hay en cada columna.  \n",
    "\n",
    "#### 2. Identificar columnas con datos faltantes\n",
    "`missing_data_columns = non_null_counts[non_null_counts < len(df)].index`<br>\n",
    "Esta línea filtra las columnas donde el conteo de valores no nulos es menor que el total de filas en el DataFrame (`len(df)`).  \n",
    "Esto significa que esas columnas contienen valores nulos.  \n",
    "- El atributo `.index` devuelve los nombres de estas columnas.  \n",
    "\n",
    "#### 3. Verificar que las columnas existen en el DataFrame\n",
    "`missing_data_columns = [col for col in missing_data_columns if col in df.columns]`<br>\n",
    "Esta línea asegura que todas las columnas identificadas con valores nulos aún existen en el DataFrame.  \n",
    "- Se usa una comprensión de listas para filtrar solo las columnas que realmente están presentes en `df.columns`.  \n",
    "\n",
    "#### 4. Mostrar las columnas con valores faltantes\n",
    "`print(\"Columnas con menos datos que el total de filas:\") display(missing_data_columns)`<br>\n",
    "Se imprimen los nombres de las columnas con valores nulos.  \n",
    "- `print()` muestra el mensaje en la consola.  \n",
    "- `display()` se usa para visualizar el contenido de `missing_data_columns`, especialmente en entornos como Jupyter Notebook.  \n",
    "\n",
    "#### 5. Reemplazar los valores nulos por 0 en las columnas con datos faltantes\n",
    "`df[missing_data_columns] = df[missing_data_columns].fillna(0)\n",
    "`<br>\n",
    "Esta línea reemplaza los valores nulos en las columnas identificadas con `0`.  \n",
    "- `fillna(0)` sustituye todos los valores `NaN` por `0`.  \n",
    "\n",
    "#### 6. Verificar que los valores nulos han sido reemplazados\n",
    "`print(\"\\nVerificación de valores nulos después del reemplazo:\")`\n",
    "\n",
    "`print(df[missing_data_columns].isnull().sum())` <br>\n",
    "Se verifica que ya no queden valores nulos en las columnas afectadas.  \n",
    "- `isnull().sum()` cuenta cuántos valores `NaN` hay después del reemplazo.  \n",
    "- Si la salida es `0` para todas las columnas, significa que el reemplazo fue exitoso.  \n",
    "\n"
   ]
  },
  {
   "cell_type": "code",
   "execution_count": 155,
   "id": "2a7e9d99-eff6-489b-8277-cfacf2f84f04",
   "metadata": {},
   "outputs": [
    {
     "name": "stdout",
     "output_type": "stream",
     "text": [
      "Columnas con menos datos que el total de filas:\n"
     ]
    },
    {
     "data": {
      "text/plain": [
       "['PA3_1', 'NIVEL_A', 'PB3_1']"
      ]
     },
     "metadata": {},
     "output_type": "display_data"
    },
    {
     "name": "stdout",
     "output_type": "stream",
     "text": [
      "\n",
      "Verificación de valores nulos después del reemplazo:\n",
      "PA3_1      0\n",
      "NIVEL_A    0\n",
      "PB3_1      0\n",
      "dtype: int64\n"
     ]
    }
   ],
   "source": [
    "# Calcular los conteos de valores no nulos\n",
    "non_null_counts = df.notnull().sum()\n",
    "\n",
    "# Verificar qué columnas tienen menos datos que el total de filas en el DataFrame\n",
    "missing_data_columns = non_null_counts[non_null_counts < len(df)].index\n",
    "\n",
    "# Verificar que las columnas existan en el DataFrame\n",
    "missing_data_columns = [col for col in missing_data_columns if col in df.columns]\n",
    "\n",
    "print(\"Columnas con menos datos que el total de filas:\")\n",
    "display(missing_data_columns)\n",
    "\n",
    "\n",
    "# Reemplazar los valores nulos por 0 en esas columnas\n",
    "df[missing_data_columns] = df[missing_data_columns].fillna(0)\n",
    "\n",
    "# Verificar que los valores nulos han sido reemplazados\n",
    "print(\"\\nVerificación de valores nulos después del reemplazo:\")\n",
    "print(df[missing_data_columns].isnull().sum())\n"
   ]
  },
  {
   "cell_type": "markdown",
   "id": "4254a875-3d1b-4d7a-91a2-525ac01bd3ea",
   "metadata": {},
   "source": [
    "En lo anterior podemos ver que las  variables `PA3_1`,`NIVEL_A`,`PB3_1` contaban con NaN y se cambiaron a cero, checamos con `value_counts` que la variable de salida `PB3_1` ,ahora tenga solo 0 ,1 y 2.   "
   ]
  },
  {
   "cell_type": "code",
   "execution_count": 159,
   "id": "7e7172d8-6523-479c-8306-6e4f8fb60482",
   "metadata": {},
   "outputs": [
    {
     "name": "stdout",
     "output_type": "stream",
     "text": [
      "PB3_1\n",
      "1.0    19655\n",
      "2.0    10633\n",
      "0.0     2055\n",
      "Name: count, dtype: int64\n"
     ]
    }
   ],
   "source": [
    "print(df.PB3_1.value_counts())"
   ]
  },
  {
   "cell_type": "markdown",
   "id": "f81104a0-8b27-491c-94fc-74764d93b3c7",
   "metadata": {},
   "source": [
    "### Cambio en variable Sexo , PA3_1 , PB3_1\n",
    "Ahora lo que haré es cambiar la variable de sexo a valores de 0=mujer y 1=hombre. PA3_1 a 1=Si , 2 lo cambiare a 0 para que sean los NO y es el mismo caso para PB3_1.\n",
    "Mediante `value counts` mostrare la cantidad de 1 ,2 y 0 que hay actualmente.\n",
    "Con `replace ` cambio los 2 a 0\n",
    "\n"
   ]
  },
  {
   "cell_type": "code",
   "execution_count": 162,
   "id": "82f3317c-9daf-4e20-9c3e-b65adf9d16cf",
   "metadata": {},
   "outputs": [
    {
     "name": "stdout",
     "output_type": "stream",
     "text": [
      "PA3_1\n",
      "1.0    20064\n",
      "2.0    10224\n",
      "0.0     2055\n",
      "Name: count, dtype: int64\n",
      " \n",
      "PB3_1\n",
      "1.0    19655\n",
      "2.0    10633\n",
      "0.0     2055\n",
      "Name: count, dtype: int64\n",
      " \n",
      "SEXO\n",
      "1    16684\n",
      "2    15659\n",
      "Name: count, dtype: int64\n",
      " \n",
      "Cambios de variables\n",
      " \n",
      "PA3_1\n",
      "1.0    20064\n",
      "0.0    12279\n",
      "Name: count, dtype: int64\n",
      " \n",
      "PB3_1\n",
      "1.0    19655\n",
      "0.0    12688\n",
      "Name: count, dtype: int64\n",
      " \n",
      "SEXO\n",
      "1    16684\n",
      "0    15659\n",
      "Name: count, dtype: int64\n"
     ]
    }
   ],
   "source": [
    "print(df.PA3_1.value_counts())\n",
    "print(\" \")\n",
    "print(df.PB3_1.value_counts())\n",
    "print(\" \")\n",
    "print(df.SEXO.value_counts())\n",
    "print(\" \")\n",
    "\n",
    "\n",
    "print(\"Cambios de variables\")\n",
    "print(\" \")\n",
    "df.PA3_1 = df.PA3_1.replace({2: 0})\n",
    "print(df.PA3_1.value_counts())\n",
    "print(\" \")\n",
    "df.PB3_1 = df.PB3_1.replace({2: 0})\n",
    "print(df.PB3_1.value_counts())\n",
    "print(\" \")\n",
    "df.SEXO = df.SEXO.replace({2: 0})\n",
    "print(df.SEXO.value_counts())"
   ]
  },
  {
   "cell_type": "markdown",
   "id": "184d2386-0a84-448a-8d6e-4e5df2b68214",
   "metadata": {},
   "source": [
    "## Separación de datos\n",
    "Ahora terminado los cambios en variables y la base\n",
    "dividimos los datos en entrenamiento y prueba 80/20 respectivamente mediante `train_test_split` de la libreria de sklearn.\n",
    "E imprimimos las proporciones para los datos originales,datos de entreamineto y datos de prueba.\n"
   ]
  },
  {
   "cell_type": "code",
   "execution_count": 172,
   "id": "e3fd7c1f-7c5a-437a-a354-037a6e826278",
   "metadata": {},
   "outputs": [
    {
     "name": "stdout",
     "output_type": "stream",
     "text": [
      "\n",
      "En entrenamiento:  PB3_1\n",
      "1.0    15715\n",
      "0.0    10159\n",
      "Name: count, dtype: int64\n",
      "\n",
      "En prueba:  PB3_1\n",
      "1.0    3940\n",
      "0.0    2529\n",
      "Name: count, dtype: int64\n",
      "\n",
      "En datos originales:  PB3_1\n",
      "1.0    19655\n",
      "0.0    12688\n",
      "Name: count, dtype: int64\n"
     ]
    }
   ],
   "source": [
    "\n",
    "# Importar función\n",
    "from sklearn.model_selection import train_test_split\n",
    "\n",
    "# Generar subconjuntos de prueba y entrenamiento para X e Y\n",
    "X_train, X_test, Y_train, Y_test = train_test_split(df.drop(\"PB3_1\", axis=1), df.PB3_1, train_size=0.8, random_state=42)\n",
    "\n",
    "# Imprimir conteo en entrenamiento\n",
    "print(\"\\nEn entrenamiento: \", Y_train.value_counts())\n",
    "\n",
    "# Imprimir conteo en prueba\n",
    "print(\"\\nEn prueba: \", Y_test.value_counts())\n",
    "\n",
    "# Imprimir conteo en datos originales\n",
    "print(\"\\nEn datos originales: \", df.PB3_1.value_counts())\n"
   ]
  },
  {
   "cell_type": "markdown",
   "id": "51d51712-f270-48a1-97d8-26db395bdbbb",
   "metadata": {},
   "source": [
    "Ahora checamos si hay desbalance de clases\n",
    "\n",
    "`total_entrenamiento = sum(conteo_entrenamiento.values())\n",
    "`\n",
    "\n",
    "\n",
    "`total_originales = sum(conteo_originales.values())\n",
    "`\n",
    "\n",
    "\n",
    "` total_prueba = sum(conteo_prueba.values())\n",
    "`\n",
    "\n",
    "\n",
    "\n",
    "Aquí, sumamos las ocurrencias de 1.0 y 0.0 para cada conjunto de datos. Usamos el método .values() para obtener los valores (número de ocurrencias) del diccionario, y luego usamos la función sum() para obtener el total de elementos en cada conjunto. Esto nos da el número total de observaciones en cada conjunto (original, entrenamiento y prueba).\n",
    "\n",
    "\n",
    "`porcentaje_1_originales = (conteo_originales[1.0] / total_originales) * 100\n",
    "`\n",
    "\n",
    "\n",
    "`porcentaje_1_entrenamiento = (conteo_entrenamiento[1.0] / total_entrenamiento) * 100\n",
    "`\n",
    "\n",
    "\n",
    "`porcentaje_1_prueba = (conteo_prueba[1.0] / total_prueba) * 100\n",
    "`\n",
    "\n",
    "\n",
    "\n",
    "En estas líneas, calculamos el porcentaje de la clase 1.0 para cada conjunto de datos. Para hacer esto:\n",
    "\n",
    "Tomamos el número de ocurrencias de 1.0 (por ejemplo, conteo_originales[1.0]) y lo dividimos entre el total de observaciones de ese conjunto (por ejemplo, total_originales).\n",
    "Multiplicamos por 100 para obtener el valor en porcentaje."
   ]
  },
  {
   "cell_type": "code",
   "execution_count": 179,
   "id": "1dbba63e-fbbd-41d5-a59e-907824aba2e1",
   "metadata": {},
   "outputs": [
    {
     "name": "stdout",
     "output_type": "stream",
     "text": [
      "Porcentaje de 1.0 en los datos originales: 60.77%\n",
      "Porcentaje de 0.0 en los datos originales: 39.23%\n",
      "Porcentaje de 1.0 en los datos de entrenamiento: 60.74%\n",
      "Porcentaje de 0.0 en los datos de entrenamiento: 39.26%\n",
      "Porcentaje de 1.0 en los datos de prueba: 60.91%\n",
      "Porcentaje de 0.0 en los datos de prueba: 39.09%\n"
     ]
    }
   ],
   "source": [
    "# Datos \n",
    "conteo_originales = {1.0: 19655, 0.0: 12688}\n",
    "conteo_entrenamiento = {1.0: 15715, 0.0: 10159}\n",
    "conteo_prueba = {1.0: 3940, 0.0: 2529}\n",
    "\n",
    "# Calcular el total de los datos originales, de entrenamiento y de prueba\n",
    "total_originales = sum(conteo_originales.values())\n",
    "total_entrenamiento = sum(conteo_entrenamiento.values())\n",
    "total_prueba = sum(conteo_prueba.values())\n",
    "\n",
    "# Calcular el porcentaje de 1.0 en los datos originales, entrenamiento y prueba\n",
    "porcentaje_1_originales = (conteo_originales[1.0] / total_originales) * 100\n",
    "porcentaje_1_entrenamiento = (conteo_entrenamiento[1.0] / total_entrenamiento) * 100\n",
    "porcentaje_1_prueba = (conteo_prueba[1.0] / total_prueba) * 100\n",
    "\n",
    "# Calcular el porcentaje de 0.0 en los datos originales, entrenamiento y prueba\n",
    "porcentaje_0_originales = (conteo_originales[0.0] / total_originales) * 100\n",
    "porcentaje_0_entrenamiento = (conteo_entrenamiento[0.0] / total_entrenamiento) * 100\n",
    "porcentaje_0_prueba = (conteo_prueba[0.0] / total_prueba) * 100\n",
    "\n",
    "# Imprimir los resultados\n",
    "print(f\"Porcentaje de 1.0 en los datos originales: {porcentaje_1_originales:.2f}%\")\n",
    "print(f\"Porcentaje de 0.0 en los datos originales: {porcentaje_0_originales:.2f}%\")\n",
    "\n",
    "print(f\"Porcentaje de 1.0 en los datos de entrenamiento: {porcentaje_1_entrenamiento:.2f}%\")\n",
    "print(f\"Porcentaje de 0.0 en los datos de entrenamiento: {porcentaje_0_entrenamiento:.2f}%\")\n",
    "\n",
    "print(f\"Porcentaje de 1.0 en los datos de prueba: {porcentaje_1_prueba:.2f}%\")\n",
    "print(f\"Porcentaje de 0.0 en los datos de prueba: {porcentaje_0_prueba:.2f}%\")\n"
   ]
  },
  {
   "cell_type": "markdown",
   "id": "0d48c5bb-5ac0-4f6e-81d9-66f3dec69316",
   "metadata": {},
   "source": [
    "Como se puede apreciar, no hay gran desbalance de clases en datos originales,en prueba y entrenamiento,solo cambian por decimas. Ahora usaré la función `LogisticRegression` de la librería sklearn.linear_model; defino `penalty=\"none\"`, pues de momento no queremos realizar un proceso de penalización que ayude a eliminar variables.\n",
    "\n",
    "Y para minimizar el efecto de  desbalance de clases, definiré `class_weight=\"balanced\"`, de forma que se agregue un peso a cada clase cuando se estime la función de verisimilitud. A una clase con muy pocas muestras se le dará un peso grande, y a una clase con muchas muestras se le dará un peso pequeño. De esta forma se trata de que la precisión en la predicción de ambas clases terminen teniendo la misma importancia para el modelo."
   ]
  },
  {
   "cell_type": "code",
   "execution_count": 185,
   "id": "a593e279-9575-4dc5-9c39-35dc520edd1f",
   "metadata": {},
   "outputs": [],
   "source": [
    "# Importar la función\n",
    "from sklearn.linear_model import LogisticRegression\n",
    "\n",
    "# Generar y entrenar el modelo sin cambiar la forma de la variable\n",
    "model = LogisticRegression(penalty=None, class_weight=\"balanced\").fit(X_train, Y_train)\n"
   ]
  },
  {
   "cell_type": "markdown",
   "id": "3c213085-bdc6-4fd3-81d1-93d354029b89",
   "metadata": {},
   "source": [
    "cross_val_score:\n",
    "\n",
    "Parámetros:\n",
    "model: El modelo que deseas evaluar (en este caso, el modelo de regresión logística).\n",
    "\n",
    "\n",
    "X_train: Las características de entrenamiento (sin la columna de salida PB3_1).\n",
    "\n",
    "\n",
    "Y_train: Las etiquetas de salida (en este caso, la variable PB3_1).\n",
    "\n",
    "\n",
    "cv=5: Esto indica que deseas realizar la validación cruzada con 5 pliegues. Esto significa que los datos de entrenamiento se dividen en 5 subconjuntos, y el modelo se entrena y evalúa 5 veces, utilizando cada subconjunto como conjunto de prueba en cada iteración y los otros 4 subconjuntos como entrenamiento.\n",
    "\n",
    "\n",
    "scoring='accuracy': Esto le dice a la función que debe calcular la exactitud en cada pliegue."
   ]
  },
  {
   "cell_type": "code",
   "execution_count": 187,
   "id": "940e15d7-ac73-45f8-b6e1-f2b6c7738683",
   "metadata": {},
   "outputs": [
    {
     "name": "stdout",
     "output_type": "stream",
     "text": [
      "Validación cruzada (5 pliegues) - Exactitud por pliegue: [0.90782609 0.90492754 0.90782609 0.91188406 0.89524546]\n",
      "\n",
      "Exactitud media en la validación cruzada: 0.9055\n"
     ]
    }
   ],
   "source": [
    "# Importar la función para validación cruzada\n",
    "from sklearn.model_selection import cross_val_score\n",
    "\n",
    "# Realizar validación cruzada con 5 pliegues\n",
    "cv_scores = cross_val_score(model, X_train, Y_train, cv=5, scoring='accuracy')\n",
    "\n",
    "# Imprimir las puntuaciones obtenidas para cada pliegue\n",
    "print(f\"Validación cruzada (5 pliegues) - Exactitud por pliegue: {cv_scores}\")\n",
    "\n",
    "# Calcular la media de la exactitud de todos los pliegues\n",
    "mean_cv_score = cv_scores.mean()\n",
    "print(f\"\\nExactitud media en la validación cruzada: {mean_cv_score:.4f}\")\n"
   ]
  },
  {
   "cell_type": "markdown",
   "id": "326804ec-4a89-4996-a785-0af9aed8f200",
   "metadata": {},
   "source": [
    "La validación cruzada con 5 pliegues muestra que el modelo tiene una alta precisión en general, con una exactitud promedio de 0.9055. Las puntuaciones de cada pliegue son bastante consistentes, lo que sugiere que el modelo tiene un buen rendimiento y no está sobreajustado a los datos de entrenamiento."
   ]
  },
  {
   "cell_type": "code",
   "execution_count": 217,
   "id": "5c0047e6-392b-4641-bda8-edfc640b5208",
   "metadata": {},
   "outputs": [
    {
     "name": "stdout",
     "output_type": "stream",
     "text": [
      "Confusión con umbral 0.5:\n",
      "[[2173  356]\n",
      " [ 280 3660]]\n",
      "Exactitud: 0.9017, Sensibilidad: 0.9289, Especificidad: 0.8592\n",
      "\n",
      "Confusión con umbral 0.6:\n",
      "[[2194  335]\n",
      " [ 323 3617]]\n",
      "Exactitud: 0.8983, Sensibilidad: 0.9180, Especificidad: 0.8675\n",
      "\n",
      "Confusión con umbral 0.4:\n",
      "[[2169  360]\n",
      " [ 272 3668]]\n",
      "Exactitud: 0.9023, Sensibilidad: 0.9310, Especificidad: 0.8577\n",
      "\n"
     ]
    },
    {
     "data": {
      "image/png": "[encoded data removed]",
      "text/plain": [
       "<Figure size 640x480 with 2 Axes>"
      ]
     },
     "metadata": {},
     "output_type": "display_data"
    },
    {
     "data": {
      "image/png": "[encoded data removed]",
      "text/plain": [
       "<Figure size 640x480 with 2 Axes>"
      ]
     },
     "metadata": {},
     "output_type": "display_data"
    },
    {
     "data": {
      "image/png": "[encoded data removed]",
      "text/plain": [
       "<Figure size 640x480 with 2 Axes>"
      ]
     },
     "metadata": {},
     "output_type": "display_data"
    }
   ],
   "source": [
    "# Importar funciones\n",
    "from sklearn.metrics import confusion_matrix\n",
    "from sklearn.metrics import ConfusionMatrixDisplay as cmd\n",
    "import numpy as np\n",
    "\n",
    "# Generar las probabilidades para el conjunto de prueba\n",
    "pred_prob = model.predict_proba(X_test)[:, 1]  # Probabilidades para la clase 1\n",
    "\n",
    "# Definir los umbrales\n",
    "umbral1 = 0.5\n",
    "umbral2 = 0.6\n",
    "umbral3 = 0.4\n",
    "\n",
    "# Hacer predicciones con los diferentes umbrales\n",
    "pred1 = (pred_prob >= umbral1).astype(int)\n",
    "pred2 = (pred_prob >= umbral2).astype(int)\n",
    "pred3 = (pred_prob >= umbral3).astype(int)\n",
    "\n",
    "# Función para calcular métricas de la matriz de confusión\n",
    "def calcular_metricas(cm):\n",
    "    TP = cm[1, 1]  # Verdaderos Positivos\n",
    "    TN = cm[0, 0]  # Verdaderos Negativos\n",
    "    FP = cm[0, 1]  # Falsos Positivos\n",
    "    FN = cm[1, 0]  # Falsos Negativos\n",
    "\n",
    "    # Exactitud\n",
    "    exactitud = (TP + TN) / (TP + TN + FP + FN)\n",
    "    \n",
    "    # Sensibilidad (Recall)\n",
    "    sensibilidad = TP / (TP + FN)\n",
    "    \n",
    "    # Especificidad\n",
    "    especificidad = TN / (TN + FP)\n",
    "\n",
    "    return exactitud, sensibilidad, especificidad\n",
    "\n",
    "# Para el umbral 0.5\n",
    "cm1 = confusion_matrix(Y_test, pred1)\n",
    "cmd(cm1, display_labels=model.classes_).plot(xticks_rotation=\"horizontal\")\n",
    "exactitud1, sensibilidad1, especificidad1 = calcular_metricas(cm1)\n",
    "print(f\"Confusión con umbral 0.5:\\n{cm1}\")\n",
    "print(f\"Exactitud: {exactitud1:.4f}, Sensibilidad: {sensibilidad1:.4f}, Especificidad: {especificidad1:.4f}\\n\")\n",
    "\n",
    "# Para el umbral 0.6\n",
    "cm2 = confusion_matrix(Y_test, pred2)\n",
    "cmd(cm2, display_labels=model.classes_).plot(xticks_rotation=\"horizontal\")\n",
    "exactitud2, sensibilidad2, especificidad2 = calcular_metricas(cm2)\n",
    "print(f\"Confusión con umbral 0.6:\\n{cm2}\")\n",
    "print(f\"Exactitud: {exactitud2:.4f}, Sensibilidad: {sensibilidad2:.4f}, Especificidad: {especificidad2:.4f}\\n\")\n",
    "\n",
    "# Para el umbral 0.4\n",
    "cm3 = confusion_matrix(Y_test, pred3)\n",
    "cmd(cm3, display_labels=model.classes_).plot(xticks_rotation=\"horizontal\")\n",
    "exactitud3, sensibilidad3, especificidad3 = calcular_metricas(cm3)\n",
    "print(f\"Confusión con umbral 0.4:\\n{cm3}\")\n",
    "print(f\"Exactitud: {exactitud3:.4f}, Sensibilidad: {sensibilidad3:.4f}, Especificidad: {especificidad3:.4f}\\n\")\n"
   ]
  },
  {
   "cell_type": "code",
   "execution_count": 213,
   "id": "06afc25f-df10-4fbf-bf2b-477eaa92a876",
   "metadata": {},
   "outputs": [
    {
     "data": {
      "image/png": "[encoded data removed]",
      "text/plain": [
       "<Figure size 800x600 with 1 Axes>"
      ]
     },
     "metadata": {},
     "output_type": "display_data"
    },
    {
     "name": "stdout",
     "output_type": "stream",
     "text": [
      "El valor de la AUC es: 0.9466\n"
     ]
    }
   ],
   "source": [
    "# Importar las funciones necesarias\n",
    "from sklearn.metrics import roc_curve, auc\n",
    "import matplotlib.pyplot as plt\n",
    "\n",
    "# Obtener las probabilidades predichas para la clase 1\n",
    "y_prob = model.predict_proba(X_test)[:, 1]\n",
    "\n",
    "# Calcular los valores de la curva ROC\n",
    "fpr, tpr, thresholds = roc_curve(Y_test, y_prob)\n",
    "\n",
    "# Calcular el valor de AUC\n",
    "roc_auc = auc(fpr, tpr)\n",
    "\n",
    "# Graficar la curva ROC\n",
    "plt.figure(figsize=(8, 6))\n",
    "plt.plot(fpr, tpr, color='blue', lw=2, label='Curva ROC (AUC = %0.2f)' % roc_auc)\n",
    "plt.plot([0, 1], [0, 1], color='gray', lw=2, linestyle='--')\n",
    "plt.xlim([0.0, 1.0])\n",
    "plt.ylim([0.0, 1.05])\n",
    "plt.xlabel('Tasa de Falsos Positivos (FPR)')\n",
    "plt.ylabel('Tasa de Verdaderos Positivos (TPR)')\n",
    "plt.title('Curva ROC')\n",
    "plt.legend(loc='lower right')\n",
    "plt.show()\n",
    "\n",
    "# Reportar el valor de AUC\n",
    "print(f\"El valor de la AUC es: {roc_auc:.4f}\")\n"
   ]
  },
  {
   "cell_type": "markdown",
   "id": "0366c03f-583d-4551-ac1e-6b63a4c0e077",
   "metadata": {},
   "source": [
    "El modelo tiene un 94.66% de probabilidad de clasificar correctamente un caso positivo por encima de uno negativo."
   ]
  },
  {
   "cell_type": "code",
   "execution_count": 224,
   "id": "bdb85605-8d86-4aa0-9fae-39731a003ef0",
   "metadata": {},
   "outputs": [
    {
     "name": "stdout",
     "output_type": "stream",
     "text": [
      "  Variable  Coeficiente\n",
      "0     SEXO    -0.081235\n",
      "1     EDAD    -0.095384\n",
      "2    PA3_1     5.754784\n",
      "3      ENT     0.002938\n",
      "4  NIVEL_A    -0.181893\n"
     ]
    }
   ],
   "source": [
    "# Obtener los coeficientes del modelo\n",
    "coeficientes = model.coef_[0]\n",
    "nombres_variables = X_train.columns\n",
    "\n",
    "# Crear un DataFrame para mostrar los coeficientes y las variables\n",
    "import pandas as pd\n",
    "coef_df = pd.DataFrame({\n",
    "    'Variable': nombres_variables,\n",
    "    'Coeficiente': coeficientes\n",
    "})\n",
    "\n",
    "print(coef_df)\n"
   ]
  },
  {
   "cell_type": "markdown",
   "id": "8aa2fdcc-59fb-4e24-a15b-4fab728faf44",
   "metadata": {},
   "source": [
    "\n",
    "A medida que el valor de SEXO aumenta, la probabilidad de que la clase sea 1 disminuye en 8.12%. \n",
    "\n",
    "\n",
    "A medida que el valor de EDAD aumenta, la probabilidad de que la clase sea 1 disminuye en 9.54%.\n",
    "\n",
    "\n",
    "  El coeficiente positivo y grande indica que PA3_1 tiene una relación muy fuerte y positiva con la probabilidad de que la clase sea 1 \n",
    "\n",
    "  \n",
    "Con cada incremento de 1 unidad en PA3_1, la probabilidad de que el evento de interés ocurra aumenta en 575.48%.\n",
    "\n",
    "\n",
    " Por cada incremento de 1 unidad en ENT, la probabilidad de que la clase sea 1 aumenta en solo 0.29%. \n",
    "\n",
    " \n",
    "Con cada incremento de 1 unidad en NIVEL_A, la probabilidad de que el evento de interés ocurra disminuye en 18.19%."
   ]
  },
  {
   "cell_type": "code",
   "execution_count": null,
   "id": "7521b495-be37-413e-b466-a6ca9573bab4",
   "metadata": {},
   "outputs": [],
   "source": []
  }
 ],
 "metadata": {
  "kernelspec": {
   "display_name": "Python [conda env:base] *",
   "language": "python",
   "name": "conda-base-py"
  },
  "language_info": {
   "codemirror_mode": {
    "name": "ipython",
    "version": 3
   },
   "file_extension": ".py",
   "mimetype": "text/x-python",
   "name": "python",
   "nbconvert_exporter": "python",
   "pygments_lexer": "ipython3",
   "version": "3.12.3"
  }
 },
 "nbformat": 4,
 "nbformat_minor": 5
}
